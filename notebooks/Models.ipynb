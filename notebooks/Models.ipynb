{
 "cells": [
  {
   "cell_type": "markdown",
   "id": "55205fc8-7bfc-4401-a891-57ec9cf76737",
   "metadata": {},
   "source": [
    "# Risk Models: Value at Risk (VaR) and Expected Shortfall (ES)\n",
    "\n",
    "In this notebook, we will calculate **Value at Risk (VaR)** and **Expected Shortfall (ES)**  \n",
    "for a financial asset using Python.\n",
    "\n",
    "VaR tells us the **maximum expected loss** over a certain time horizon at a given confidence level.  \n",
    "Expected Shortfall measures the **average loss beyond the VaR threshold**, giving a more complete picture of risk.\n",
    "\n",
    "We will use three methods for VaR:  \n",
    "1. Parametric (assumes normal returns)  \n",
    "2. Historical (uses actual past returns)  \n",
    "3. Monte Carlo simulation (simulates many possible scenarios)\n"
   ]
  },
  {
   "cell_type": "code",
   "execution_count": 11,
   "id": "9df1074f-5c54-49ed-97ec-2bd28645d149",
   "metadata": {},
   "outputs": [],
   "source": [
    "# Import libraries\n",
    "import numpy as np\n",
    "import pandas as pd\n",
    "import matplotlib.pyplot as plt\n",
    "import seaborn as sns\n",
    "import yfinance as yf\n",
    "\n",
    "# Plot settings\n",
    "sns.set(style=\"whitegrid\")\n",
    "%matplotlib inline\n"
   ]
  },
  {
   "cell_type": "markdown",
   "id": "e7acb7ff-f72e-45de-b00d-893edd929c8f",
   "metadata": {},
   "source": [
    "# Download Historical Data\n",
    "\n",
    "We will download historical prices for the S&P 500 index (^GSPC) from Yahoo Finance.  \n",
    "We will use **adjusted closing prices** to account for dividends and splits.  \n",
    "\n",
    "Then we calculate **daily returns** as percentage changes.\n"
   ]
  },
  {
   "cell_type": "code",
   "execution_count": 17,
   "id": "f948a242-05ed-40ca-9f39-3c108a0cca07",
   "metadata": {},
   "outputs": [
    {
     "name": "stderr",
     "output_type": "stream",
     "text": [
      "[*********************100%***********************]  1 of 1 completed"
     ]
    },
    {
     "name": "stdout",
     "output_type": "stream",
     "text": [
      "<class 'pandas.core.frame.DataFrame'>\n"
     ]
    },
    {
     "name": "stderr",
     "output_type": "stream",
     "text": [
      "\n"
     ]
    },
    {
     "data": {
      "text/html": [
       "<div>\n",
       "<style scoped>\n",
       "    .dataframe tbody tr th:only-of-type {\n",
       "        vertical-align: middle;\n",
       "    }\n",
       "\n",
       "    .dataframe tbody tr th {\n",
       "        vertical-align: top;\n",
       "    }\n",
       "\n",
       "    .dataframe thead th {\n",
       "        text-align: right;\n",
       "    }\n",
       "</style>\n",
       "<table border=\"1\" class=\"dataframe\">\n",
       "  <thead>\n",
       "    <tr style=\"text-align: right;\">\n",
       "      <th>Ticker</th>\n",
       "      <th>^GSPC</th>\n",
       "    </tr>\n",
       "    <tr>\n",
       "      <th>Date</th>\n",
       "      <th></th>\n",
       "    </tr>\n",
       "  </thead>\n",
       "  <tbody>\n",
       "    <tr>\n",
       "      <th>2015-01-05</th>\n",
       "      <td>-0.018278</td>\n",
       "    </tr>\n",
       "    <tr>\n",
       "      <th>2015-01-06</th>\n",
       "      <td>-0.008893</td>\n",
       "    </tr>\n",
       "    <tr>\n",
       "      <th>2015-01-07</th>\n",
       "      <td>0.011630</td>\n",
       "    </tr>\n",
       "    <tr>\n",
       "      <th>2015-01-08</th>\n",
       "      <td>0.017888</td>\n",
       "    </tr>\n",
       "    <tr>\n",
       "      <th>2015-01-09</th>\n",
       "      <td>-0.008404</td>\n",
       "    </tr>\n",
       "  </tbody>\n",
       "</table>\n",
       "</div>"
      ],
      "text/plain": [
       "Ticker         ^GSPC\n",
       "Date                \n",
       "2015-01-05 -0.018278\n",
       "2015-01-06 -0.008893\n",
       "2015-01-07  0.011630\n",
       "2015-01-08  0.017888\n",
       "2015-01-09 -0.008404"
      ]
     },
     "execution_count": 17,
     "metadata": {},
     "output_type": "execute_result"
    }
   ],
   "source": [
    "# Download historical data with auto_adjust\n",
    "ticker = \"^GSPC\"\n",
    "data = yf.download(ticker, start=\"2015-01-01\", end=\"2025-01-01\", auto_adjust=True)\n",
    "\n",
    "# Make sure 'Close' is a Series\n",
    "if isinstance(data, pd.DataFrame):\n",
    "    prices = data['Close']  # this is a Series\n",
    "else:\n",
    "    prices = data\n",
    "\n",
    "# Daily returns as a Series\n",
    "returns = prices.pct_change().dropna()\n",
    "\n",
    "print(type(returns))  # should be pandas Series\n",
    "returns.head()\n"
   ]
  },
  {
   "cell_type": "markdown",
   "id": "c7fc876a-8075-4128-b882-a7f86c767c6e",
   "metadata": {},
   "source": [
    "# Value at Risk (VaR)\n",
    "\n",
    "VaR tells us the **maximum expected loss** over a given time period at a certain confidence level.  \n",
    "\n",
    "We calculate VaR in three ways:\n",
    "1. Parametric: assumes returns follow a normal distribution.\n",
    "2. Historical: uses actual past returns.\n",
    "3. Monte Carlo: simulates many possible future returns.\n",
    "\n",
    "We will use a **95% confidence level**, meaning there is a 5% chance of exceeding the VaR.\n"
   ]
  },
  {
   "cell_type": "code",
   "execution_count": 19,
   "id": "5e52c8e8-9bf5-4111-9fde-da1b00c0a061",
   "metadata": {},
   "outputs": [
    {
     "name": "stdout",
     "output_type": "stream",
     "text": [
      "Parametric VaR (95%): Ticker\n",
      "^GSPC   -0.017993\n",
      "dtype: float64\n",
      "Historical VaR (95%): Ticker\n",
      "^GSPC   -0.016903\n",
      "Name: 0.050000000000000044, dtype: float64\n",
      "Monte Carlo VaR (95%): -0.018023998729798908\n"
     ]
    }
   ],
   "source": [
    "confidence_level = 0.95\n",
    "\n",
    "# Parametric VaR\n",
    "mu = returns.mean()\n",
    "sigma = returns.std()\n",
    "VaR_param = mu - sigma * 1.645\n",
    "print(\"Parametric VaR (95%):\", VaR_param)\n",
    "\n",
    "# Historical VaR\n",
    "VaR_hist = returns.quantile(1 - confidence_level)\n",
    "print(\"Historical VaR (95%):\", VaR_hist)\n",
    "\n",
    "# Monte Carlo VaR\n",
    "simulated_returns = np.random.normal(mu, sigma, 100000)\n",
    "VaR_mc = np.percentile(simulated_returns, (1 - confidence_level) * 100)\n",
    "print(\"Monte Carlo VaR (95%):\", VaR_mc)\n"
   ]
  },
  {
   "cell_type": "markdown",
   "id": "fbdbfdd6-5c85-408f-bc8d-9b8ff89f1305",
   "metadata": {},
   "source": [
    "# Expected Shortfall (ES)\n",
    "\n",
    "Expected Shortfall (also called Conditional VaR) is the **average loss beyond the VaR threshold**.  \n",
    "It gives a better sense of tail risk, because it accounts for the magnitude of extreme losses.\n",
    "\n",
    "We will calculate ES for both Historical and Parametric VaR.\n"
   ]
  },
  {
   "cell_type": "code",
   "execution_count": 20,
   "id": "2de723fb-1d1a-4c73-a018-e480576af130",
   "metadata": {},
   "outputs": [
    {
     "name": "stdout",
     "output_type": "stream",
     "text": [
      "Historical Expected Shortfall (95%): Ticker\n",
      "^GSPC   -0.027373\n",
      "dtype: float64\n",
      "Parametric Expected Shortfall (95%): Ticker\n",
      "^GSPC   -0.022684\n",
      "dtype: float64\n"
     ]
    }
   ],
   "source": [
    "from scipy.stats import norm\n",
    "\n",
    "# Historical ES\n",
    "ES_hist = returns[returns <= VaR_hist].mean()\n",
    "print(\"Historical Expected Shortfall (95%):\", ES_hist)\n",
    "\n",
    "# Parametric ES\n",
    "ES_param = mu - sigma * norm.pdf(norm.ppf(confidence_level)) / (1 - confidence_level)\n",
    "print(\"Parametric Expected Shortfall (95%):\", ES_param)\n"
   ]
  },
  {
   "cell_type": "markdown",
   "id": "66593d7a-4e2f-4c33-ab3a-93bd60e95652",
   "metadata": {},
   "source": [
    "# Visualizing VaR and ES\n",
    "\n",
    "Let's plot the daily returns histogram and show where the VaR and ES lie.  \n",
    "This helps to **see the tail risk** visually.\n"
   ]
  },
  {
   "cell_type": "code",
   "execution_count": 27,
   "id": "de73971a-792f-4dde-bf34-8ffca65970ef",
   "metadata": {},
   "outputs": [
    {
     "data": {
      "image/png": "[encoded data removed]",
      "text/plain": [
       "<Figure size 1000x600 with 1 Axes>"
      ]
     },
     "metadata": {},
     "output_type": "display_data"
    }
   ],
   "source": [
    "plt.figure(figsize=(10,6))\n",
    "sns.histplot(returns, bins=100, kde=False, color='skyblue')\n",
    "\n",
    "plt.axvline(float(VaR_param.iloc[0]), color='red', linestyle='--', label='Parametric VaR')\n",
    "plt.axvline(float(VaR_hist.iloc[0]), color='orange', linestyle='--', label='Historical VaR')\n",
    "plt.axvline(float(ES_param.iloc[0]), color='darkred', linestyle='-.', label='Parametric ES')\n",
    "plt.axvline(float(ES_hist.iloc[0]), color='darkorange', linestyle='-.', label='Historical ES')\n",
    "\n",
    "plt.title(\"S&P 500 Daily Returns with VaR and ES\")\n",
    "plt.xlabel(\"Daily Return\")\n",
    "plt.ylabel(\"Frequency\")\n",
    "plt.legend()\n",
    "plt.show()\n"
   ]
  },
  {
   "cell_type": "code",
   "execution_count": null,
   "id": "230afde5-fe1c-429e-b2c7-5817bc08f5b9",
   "metadata": {},
   "outputs": [],
   "source": []
  }
 ],
 "metadata": {
  "kernelspec": {
   "display_name": "OptionPricing (venv)",
   "language": "python",
   "name": "optionpricing-venv"
  },
  "language_info": {
   "codemirror_mode": {
    "name": "ipython",
    "version": 3
   },
   "file_extension": ".py",
   "mimetype": "text/x-python",
   "name": "python",
   "nbconvert_exporter": "python",
   "pygments_lexer": "ipython3",
   "version": "3.12.0"
  }
 },
 "nbformat": 4,
 "nbformat_minor": 5
}
